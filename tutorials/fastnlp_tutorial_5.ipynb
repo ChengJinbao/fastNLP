{
 "cells": [
  {
   "cell_type": "markdown",
   "id": "fdd7ff16",
   "metadata": {},
   "source": [
    "# T5. fastNLP 与 paddle 或 jittor 的结合\n",
    "\n",
    "&emsp; 1 &ensp; fastNLP 结合 paddle 训练模型\n",
    " \n",
    "&emsp; &emsp; 1.1 &ensp; \n",
    "\n",
    "&emsp; &emsp; 1.2 &ensp; \n",
    "\n",
    "&emsp; 2 &ensp; fastNLP 结合 jittor 训练模型\n",
    "\n",
    "&emsp; &emsp; 2.1 &ensp; \n",
    "\n",
    "&emsp; &emsp; 2.2 &ensp; \n",
    "\n",
    "&emsp; 3 &ensp; fastNLP 实现 paddle 与 pytorch 互转\n",
    "\n",
    "&emsp; &emsp; 3.1 &ensp; \n",
    "\n",
    "&emsp; &emsp; 3.2 &ensp; "
   ]
  },
  {
   "cell_type": "code",
   "execution_count": null,
   "id": "08752c5a",
   "metadata": {},
   "outputs": [],
   "source": []
  }
 ],
 "metadata": {
  "kernelspec": {
   "display_name": "Python 3 (ipykernel)",
   "language": "python",
   "name": "python3"
  },
  "language_info": {
   "codemirror_mode": {
    "name": "ipython",
    "version": 3
   },
   "file_extension": ".py",
   "mimetype": "text/x-python",
   "name": "python",
   "nbconvert_exporter": "python",
   "pygments_lexer": "ipython3",
   "version": "3.7.13"
  }
 },
 "nbformat": 4,
 "nbformat_minor": 5
}

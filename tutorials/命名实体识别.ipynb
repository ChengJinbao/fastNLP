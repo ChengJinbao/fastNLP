{
 "cells": [
  {
   "cell_type": "raw",
   "metadata": {},
   "source": [
    "##1. 命名实体识别(name entity recognition, NER)\n",
    "命名实体识别任务是从文本中抽取出具有特殊意义或者指代性非常强的实体，通常包括人名、地名、机构名和时间等。\n",
    "如下面的例子中\n",
    "\n",
    "我来自复旦大学。\n",
    "\n",
    "其中“复旦大学”就是一个机构名，命名实体识别就是要从中识别出“复旦大学”这四个字是一个整体，且属于机构名这个类别。这个问题现在一般被转换为了\n",
    "在本tutorial中我们将通过fastNLP尝试写出一个\n",
    "\n",
    "##2. 数据\n"
   ]
  }
 ],
 "metadata": {
  "kernelspec": {
   "display_name": "Python 3",
   "language": "python",
   "name": "python3"
  },
  "language_info": {
   "codemirror_mode": {
    "name": "ipython",
    "version": 3
   },
   "file_extension": ".py",
   "mimetype": "text/x-python",
   "name": "python",
   "nbconvert_exporter": "python",
   "pygments_lexer": "ipython3",
   "version": "3.6.7"
  }
 },
 "nbformat": 4,
 "nbformat_minor": 2
}

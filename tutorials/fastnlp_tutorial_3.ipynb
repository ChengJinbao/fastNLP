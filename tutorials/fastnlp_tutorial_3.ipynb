{
 "cells": [
  {
   "cell_type": "markdown",
   "id": "213d538c",
   "metadata": {},
   "source": [
    "# T3. \n",
    "\n",
    "&emsp; 1 &ensp; \n",
    " \n",
    "&emsp; &emsp; 1.1 &ensp; \n",
    "\n",
    "&emsp; &emsp; 1.2 &ensp; \n",
    "\n",
    "&emsp; 2 &ensp; \n",
    "\n",
    "&emsp; &emsp; 2.1 &ensp; \n",
    "\n",
    "&emsp; &emsp; 2.2 &ensp; \n",
    "\n",
    "&emsp; 3 &ensp; \n",
    " \n",
    "&emsp; &emsp; 3.1 &ensp; \n",
    "\n",
    "&emsp; &emsp; 3.2 &ensp; "
   ]
  },
  {
   "cell_type": "code",
   "execution_count": null,
   "id": "b369137f",
   "metadata": {},
   "outputs": [],
   "source": []
  }
 ],
 "metadata": {
  "kernelspec": {
   "display_name": "Python 3 (ipykernel)",
   "language": "python",
   "name": "python3"
  },
  "language_info": {
   "codemirror_mode": {
    "name": "ipython",
    "version": 3
   },
   "file_extension": ".py",
   "mimetype": "text/x-python",
   "name": "python",
   "nbconvert_exporter": "python",
   "pygments_lexer": "ipython3",
   "version": "3.7.4"
  }
 },
 "nbformat": 4,
 "nbformat_minor": 5
}
